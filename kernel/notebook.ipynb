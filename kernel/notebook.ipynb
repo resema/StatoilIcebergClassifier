{
  "cells": [
    {
      "metadata": {
        "_uuid": "a84233f5cbe98d402d74f46e87e7d745540b2cc8",
        "_cell_guid": "c825acee-1835-4fa0-a14a-0c40a589577a"
      },
      "cell_type": "markdown",
      "source": "This Kernal implements a Keras + Tensorflow CNN for the StatOil Iceberg competition. It has yielded results of 0.1995 on the leaderboard. With some tuning and image filtering plus more of an inclusion of the incident angle, a better result could be yielded I'm sure.\n\nThe input is a 75x75x3 set of images. The output is a binary 0/1 where 1 is noteed as an iceberg. \n\nThe set of images are band_1 (HH), band_2 (HV), and an combined band which would be (HH dot HV)/constant. However, since we are working with the images in dB, the 3rd band is modified to compenate for the log function yielding band_1 + band_2 -log(constant). The last term is neglected as when the images are scaled the 3rd term would be removed by the mathematics anyway.\n\nThis and other information can be found from: https://earth.esa.int/c/document_library/get_file?folderId=409229&name=DLFE-5566.pdf"
    },
    {
      "metadata": {
        "_uuid": "fb4f08cce0aaddbda853b5c86f8b66e6189b10a4",
        "_cell_guid": "3742280f-b7f8-4639-a1dc-fe34c5d0bbe5"
      },
      "cell_type": "markdown",
      "source": "## Imports"
    },
    {
      "metadata": {
        "_uuid": "a6025efc05dbb5d0a9f30e1b70e6178a52f7bb5b",
        "_cell_guid": "06ed8576-67b0-407a-bec3-a8919432eb4b",
        "trusted": true
      },
      "cell_type": "code",
      "source": "import pandas as pd \nimport numpy as np \nimport cv2 # Used to manipulated the images \nnp.random.seed(1337) # The seed I used - pick your own or comment out for a random seed. A constant seed allows for better comparisons though\n\n# Import Keras \nfrom keras.models import Sequential\nfrom keras.layers import Dense, Dropout, Flatten, Activation\nfrom keras.layers import Conv2D, MaxPooling2D\nfrom keras.callbacks import EarlyStopping, ModelCheckpoint, ReduceLROnPlateau\nfrom keras.layers.normalization import BatchNormalization\nfrom keras.optimizers import Adam",
      "execution_count": 1,
      "outputs": [
        {
          "output_type": "stream",
          "text": "Using TensorFlow backend.\n/opt/conda/lib/python3.6/importlib/_bootstrap.py:219: RuntimeWarning: compiletime version 3.5 of module 'tensorflow.python.framework.fast_tensor_util' does not match runtime version 3.6\n  return f(*args, **kwds)\n",
          "name": "stderr"
        }
      ]
    },
    {
      "metadata": {
        "_uuid": "edd393b24524487da40e6afded38bf69420e4c0c",
        "_cell_guid": "4d270cfb-b795-4fcb-a9a1-036d76df11cd"
      },
      "cell_type": "markdown",
      "source": "## Load Training Data"
    },
    {
      "metadata": {
        "scrolled": true,
        "_uuid": "8b4c8df78f70528e640d2fa67224d81122f19c09",
        "_cell_guid": "3929b5f5-42ae-4129-be7d-bb62ef9a0892",
        "trusted": true
      },
      "cell_type": "code",
      "source": "df_train = pd.read_json('../input/train.json') # this is a dataframe\nprint(len(df_train['band_1'][0]))",
      "execution_count": 95,
      "outputs": [
        {
          "output_type": "stream",
          "text": "5625\n",
          "name": "stdout"
        }
      ]
    },
    {
      "metadata": {
        "_uuid": "fc90560cb8c46a84df31a27f202521f174393da0",
        "_cell_guid": "acd72dcd-7a59-4b81-9181-b03c96d33698"
      },
      "cell_type": "markdown",
      "source": "Need to reshape and feature scale the images:"
    },
    {
      "metadata": {
        "_uuid": "2782430813d6deda5a6f8aae1cc385586538f5c5",
        "_cell_guid": "715ebc9b-0999-456e-8ed0-bc96e05e0128",
        "trusted": true
      },
      "cell_type": "code",
      "source": "def get_scaled_imgs(df):\n    imgs = []\n    \n    for i, row in df.iterrows():\n        #make 75x75 image\n        band_1 = np.array(row['band_1']).reshape(75, 75)\n        band_2 = np.array(row['band_2']).reshape(75, 75)\n        band_3 = band_1 + band_2 # plus since log(x*y) = log(x) + log(y)\n        \n        # Rescale\n        a = (band_1 - band_1.mean()) / (band_1.max() - band_1.min())\n        b = (band_2 - band_2.mean()) / (band_2.max() - band_2.min())\n        c = (band_3 - band_3.mean()) / (band_3.max() - band_3.min())\n\n        imgs.append(np.dstack((a, b, c)))\n\n    return np.array(imgs)",
      "execution_count": 96,
      "outputs": []
    },
    {
      "metadata": {
        "_uuid": "5c5e277b79272ef634783caf1fe8aa16447d6a3a",
        "_cell_guid": "85302ec3-62ea-428b-94d1-4e5cfce6636a",
        "trusted": true
      },
      "cell_type": "code",
      "source": "Xtrain = get_scaled_imgs(df_train)\nprint(Xtrain.shape)",
      "execution_count": 105,
      "outputs": [
        {
          "output_type": "stream",
          "text": "(1604, 75, 75, 3)\n",
          "name": "stdout"
        }
      ]
    },
    {
      "metadata": {
        "_uuid": "fd2fd9004992dbf7423c7c3f2b6307e82e99cb43",
        "_cell_guid": "c82bf9e6-0037-451d-9ca5-e6ff8d308e5c"
      },
      "cell_type": "markdown",
      "source": "Get the response variable \"is_iceberg\""
    },
    {
      "metadata": {
        "_uuid": "3d86dd956ad0c36ce3ad1b7b3f498478b44c93b4",
        "_cell_guid": "cef1dcf0-a325-42f9-b67c-e6cecd8b905f",
        "trusted": true
      },
      "cell_type": "code",
      "source": "Ytrain = np.array(df_train['is_iceberg'])\nprint(df_train['is_iceberg'][1603])",
      "execution_count": 106,
      "outputs": [
        {
          "output_type": "stream",
          "text": "0\n",
          "name": "stdout"
        }
      ]
    },
    {
      "metadata": {
        "_uuid": "5e26d33941b02e8fd5f9447ffa81643a94b4b47c",
        "_cell_guid": "969b8bf1-97ff-43a5-8559-de6b30e7f067"
      },
      "cell_type": "markdown",
      "source": "Some of the incident angle from the satellite are unknown and marked as \"na\". Replace these na with 0 and find the indices where the incident angle is >0 (this way you can use a truncated set or the full set of training data)."
    },
    {
      "metadata": {
        "_uuid": "5e9a904a1dab28585c117f6fc751fee3297b95b5",
        "_cell_guid": "8cd73730-f3ac-4aac-8abd-1908db72aa14",
        "trusted": true
      },
      "cell_type": "code",
      "source": "# No incident angles are zero??\n#np.where(df_train.inc_angle==0)  # --> NO, good!\n\ndf_train.inc_angle = df_train.inc_angle.replace('na',0)\nidx_tr = np.where(df_train.inc_angle>0)",
      "execution_count": 107,
      "outputs": []
    },
    {
      "metadata": {
        "_uuid": "a6685ee2d0e7f58bb5f0ec4c2ed7b85451edd384",
        "_cell_guid": "ec8be8e9-66aa-4952-8e85-25a425146e04"
      },
      "cell_type": "markdown",
      "source": "You can now use the option of training with only known incident angles or the whole set. I found slightly better results training with only the known incident angles so:"
    },
    {
      "metadata": {
        "_uuid": "9f34935b2730a0ba9748916a278d14b4eb76b1c0",
        "_cell_guid": "1b90f6f0-2cf7-4cfd-8186-791c7ac7122f",
        "trusted": true
      },
      "cell_type": "code",
      "source": "Ytrain = Ytrain[idx_tr[0]]\nXtrain = Xtrain[idx_tr[0],...]",
      "execution_count": 108,
      "outputs": []
    },
    {
      "metadata": {
        "_uuid": "8da34b46d1f4c96d9f32239df3b61573cde9d0e1",
        "_cell_guid": "306fe2f3-f417-4f2d-956b-2cc98c8b955b"
      },
      "cell_type": "markdown",
      "source": "## Adding images for training"
    },
    {
      "metadata": {
        "_uuid": "fba1fe217316a5ca70887c67d2c0c158cb8c02dc",
        "_cell_guid": "49117bf4-dbdd-4ea5-95ca-af23ed35053e"
      },
      "cell_type": "markdown",
      "source": "Now, the biggest improvement I had was by adding more data to train on. I did this by simply including horizontally and vertically flipped data. Using OpenCV this is easily done."
    },
    {
      "metadata": {
        "_uuid": "760fa192e912111b39d3d0ee3fadd9c7fd0eb628",
        "collapsed": true,
        "_cell_guid": "f069618d-46f0-42f0-8e83-e5a4716bb965",
        "trusted": true
      },
      "cell_type": "code",
      "source": "def get_more_images(imgs):\n    \n    more_images = []\n    vert_flip_imgs = []\n    hori_flip_imgs = []\n      \n    for i in range(0,imgs.shape[0]):\n        a=imgs[i,:,:,0]\n        b=imgs[i,:,:,1]\n        c=imgs[i,:,:,2]\n        \n        av=cv2.flip(a,1)\n        ah=cv2.flip(a,0)\n        bv=cv2.flip(b,1)\n        bh=cv2.flip(b,0)\n        cv=cv2.flip(c,1)\n        ch=cv2.flip(c,0)\n        \n        vert_flip_imgs.append(np.dstack((av, bv, cv)))\n        hori_flip_imgs.append(np.dstack((ah, bh, ch)))\n      \n    v = np.array(vert_flip_imgs)\n    h = np.array(hori_flip_imgs)\n       \n    more_images = np.concatenate((imgs,v,h))\n    \n    return more_images\n",
      "execution_count": 109,
      "outputs": []
    },
    {
      "metadata": {
        "_uuid": "39719b4ceb5cbfc4bf94461d3108e77f3688ad84",
        "_cell_guid": "31907cfa-6fdd-400d-ba9e-b755c40c7630"
      },
      "cell_type": "markdown",
      "source": "I rename the returned value so i have the option of using the original data set or the expanded data set"
    },
    {
      "metadata": {
        "_uuid": "bbab6fcb834b8f5eaf9f56ecef2d068df617b749",
        "collapsed": true,
        "_cell_guid": "f5cf48ee-7f83-44c0-9d13-61d492a27428",
        "trusted": true
      },
      "cell_type": "code",
      "source": "Xtr_more = get_more_images(Xtrain) ",
      "execution_count": 114,
      "outputs": []
    },
    {
      "metadata": {
        "_uuid": "99e06106fcbf3b642f2e7f7c63da33a356a09157",
        "_cell_guid": "58261f5c-de26-41f5-805b-2fec1fabffef"
      },
      "cell_type": "markdown",
      "source": "And then define the new response variable:"
    },
    {
      "metadata": {
        "_uuid": "f735f520aab4cfd64ae9e0a098aa441372c5b8b7",
        "collapsed": true,
        "_cell_guid": "3c8be0d9-9dee-45e8-affc-7ad95c30e111",
        "trusted": true
      },
      "cell_type": "code",
      "source": "Ytr_more = np.concatenate((Ytrain,Ytrain,Ytrain))",
      "execution_count": 110,
      "outputs": []
    },
    {
      "metadata": {
        "_uuid": "f2b22fcec3493ce4df71f0dd21ed97fd1938e3f7",
        "_cell_guid": "54a72cfc-dbc1-4136-bb31-2ea75115e1cf"
      },
      "cell_type": "markdown",
      "source": "## CNN Keras Model"
    },
    {
      "metadata": {
        "_uuid": "55f2def478e9adf2293cc0362a96f65884e7eab8",
        "_cell_guid": "60ecc07f-3dc5-4ba6-9c02-127ebec699a7"
      },
      "cell_type": "markdown",
      "source": "Now the nitty gritty of the situation, the CNN model. This is a simplistic model that should give reasonable results. It is not tuned that well and there are plenty of options and changes you can try so as to improve it. At least you will get the idea:"
    },
    {
      "metadata": {
        "_uuid": "edd8ce229d5914f9f57bf147dccb4810c06dbf09",
        "collapsed": true,
        "_cell_guid": "c3d1f84c-44e0-45df-9363-13f5b8abd6ef",
        "trusted": true
      },
      "cell_type": "code",
      "source": "def getModel():\n    #Build keras model\n    \n    model=Sequential()\n    \n    # CNN 1\n    model.add(Conv2D(64, kernel_size=(3, 3),activation='relu', input_shape=(75, 75, 3)))\n    model.add(MaxPooling2D(pool_size=(3, 3), strides=(2, 2)))\n    model.add(Dropout(0.2))\n\n    # CNN 2\n    model.add(Conv2D(128, kernel_size=(3, 3), activation='relu' ))\n    model.add(MaxPooling2D(pool_size=(2, 2), strides=(2, 2)))\n    model.add(Dropout(0.2))\n\n    # CNN 3\n    model.add(Conv2D(128, kernel_size=(3, 3), activation='relu'))\n    model.add(MaxPooling2D(pool_size=(2, 2), strides=(2, 2)))\n    model.add(Dropout(0.2))\n\n    #CNN 4\n    model.add(Conv2D(64, kernel_size=(3, 3), activation='relu'))\n    model.add(MaxPooling2D(pool_size=(2, 2), strides=(2, 2)))\n    model.add(Dropout(0.2))\n\n    # You must flatten the data for the dense layers\n    model.add(Flatten())\n\n    #Dense 1\n    model.add(Dense(512, activation='relu'))\n    model.add(Dropout(0.2))\n\n    #Dense 2\n    model.add(Dense(256, activation='relu'))\n    model.add(Dropout(0.2))\n\n    # Output \n    model.add(Dense(1, activation=\"sigmoid\"))\n\n    optimizer = Adam(lr=0.001, decay=0.0)\n    model.compile(loss='binary_crossentropy', optimizer=optimizer, metrics=['accuracy'])\n    \n    return model",
      "execution_count": 111,
      "outputs": []
    },
    {
      "metadata": {
        "_uuid": "14fe4ef731890428d6ee9616e04339829c94d6e9",
        "_cell_guid": "0fdf0c92-bf4f-45a8-b764-8f29c20f8b99"
      },
      "cell_type": "markdown",
      "source": "Now get the model and get ready to train"
    },
    {
      "metadata": {
        "_uuid": "26dcf890e933e3a088c2f3bcbd1c8528fbbccca7",
        "_cell_guid": "c8d9002e-8166-4af4-93f9-fe1128504415",
        "trusted": true
      },
      "cell_type": "code",
      "source": "model = getModel()\nmodel.summary()\n\nbatch_size = 32\nearlyStopping = EarlyStopping(monitor='val_loss', patience=10, verbose=0, mode='min')\nmcp_save = ModelCheckpoint('.mdl_wts.hdf5', save_best_only=True, monitor='val_loss', mode='min')\nreduce_lr_loss = ReduceLROnPlateau(monitor='val_loss', factor=0.1, patience=7, verbose=1, epsilon=1e-4, mode='min')",
      "execution_count": 112,
      "outputs": [
        {
          "output_type": "stream",
          "text": "_________________________________________________________________\nLayer (type)                 Output Shape              Param #   \n=================================================================\nconv2d_1 (Conv2D)            (None, 73, 73, 64)        1792      \n_________________________________________________________________\nmax_pooling2d_1 (MaxPooling2 (None, 36, 36, 64)        0         \n_________________________________________________________________\ndropout_1 (Dropout)          (None, 36, 36, 64)        0         \n_________________________________________________________________\nconv2d_2 (Conv2D)            (None, 34, 34, 128)       73856     \n_________________________________________________________________\nmax_pooling2d_2 (MaxPooling2 (None, 17, 17, 128)       0         \n_________________________________________________________________\ndropout_2 (Dropout)          (None, 17, 17, 128)       0         \n_________________________________________________________________\nconv2d_3 (Conv2D)            (None, 15, 15, 128)       147584    \n_________________________________________________________________\nmax_pooling2d_3 (MaxPooling2 (None, 7, 7, 128)         0         \n_________________________________________________________________\ndropout_3 (Dropout)          (None, 7, 7, 128)         0         \n_________________________________________________________________\nconv2d_4 (Conv2D)            (None, 5, 5, 64)          73792     \n_________________________________________________________________\nmax_pooling2d_4 (MaxPooling2 (None, 2, 2, 64)          0         \n_________________________________________________________________\ndropout_4 (Dropout)          (None, 2, 2, 64)          0         \n_________________________________________________________________\nflatten_1 (Flatten)          (None, 256)               0         \n_________________________________________________________________\ndense_1 (Dense)              (None, 512)               131584    \n_________________________________________________________________\ndropout_5 (Dropout)          (None, 512)               0         \n_________________________________________________________________\ndense_2 (Dense)              (None, 256)               131328    \n_________________________________________________________________\ndropout_6 (Dropout)          (None, 256)               0         \n_________________________________________________________________\ndense_3 (Dense)              (None, 1)                 257       \n=================================================================\nTotal params: 560,193\nTrainable params: 560,193\nNon-trainable params: 0\n_________________________________________________________________\n",
          "name": "stdout"
        }
      ]
    },
    {
      "metadata": {
        "_uuid": "6dbc30eedfb3fafad4dc19f68c41ba6ac3f5e421",
        "_cell_guid": "c18eef26-051b-412a-a13b-bf26f416e830"
      },
      "cell_type": "markdown",
      "source": "Now train the model! (Each epoch ran at about 10s on GPU)"
    },
    {
      "metadata": {
        "_uuid": "e659b7bc60a664039514bb043910d55a82d2f5fe",
        "_cell_guid": "06dcfa2a-2742-4095-893d-f9b578558879",
        "trusted": true
      },
      "cell_type": "code",
      "source": "model.fit(Xtr_more, Ytr_more, batch_size=batch_size, epochs=50, verbose=1, callbacks=[earlyStopping, mcp_save, reduce_lr_loss], validation_split=0.25)",
      "execution_count": 115,
      "outputs": [
        {
          "output_type": "stream",
          "text": "Train on 3309 samples, validate on 1104 samples\nEpoch 1/50\n3309/3309 [==============================] - 95s 29ms/step - loss: 0.5654 - acc: 0.6887 - val_loss: 0.4008 - val_acc: 0.8297\nEpoch 2/50\n3309/3309 [==============================] - 95s 29ms/step - loss: 0.3555 - acc: 0.8377 - val_loss: 0.4650 - val_acc: 0.7799\nEpoch 3/50\n3309/3309 [==============================] - 94s 28ms/step - loss: 0.3331 - acc: 0.8534 - val_loss: 0.3647 - val_acc: 0.8487\nEpoch 4/50\n3309/3309 [==============================] - 94s 28ms/step - loss: 0.2764 - acc: 0.8776 - val_loss: 0.3025 - val_acc: 0.8795\nEpoch 5/50\n3309/3309 [==============================] - 94s 28ms/step - loss: 0.2590 - acc: 0.8879 - val_loss: 0.2743 - val_acc: 0.9022\nEpoch 6/50\n3309/3309 [==============================] - 94s 28ms/step - loss: 0.2267 - acc: 0.9036 - val_loss: 0.2713 - val_acc: 0.8995\nEpoch 7/50\n3309/3309 [==============================] - 90s 27ms/step - loss: 0.2158 - acc: 0.9099 - val_loss: 0.2774 - val_acc: 0.8958\nEpoch 8/50\n3309/3309 [==============================] - 86s 26ms/step - loss: 0.2010 - acc: 0.9175 - val_loss: 0.2280 - val_acc: 0.9112\nEpoch 9/50\n3309/3309 [==============================] - 90s 27ms/step - loss: 0.1906 - acc: 0.9196 - val_loss: 0.2246 - val_acc: 0.9139\nEpoch 10/50\n3309/3309 [==============================] - 90s 27ms/step - loss: 0.1794 - acc: 0.9241 - val_loss: 0.2083 - val_acc: 0.9212\nEpoch 11/50\n3309/3309 [==============================] - 90s 27ms/step - loss: 0.1752 - acc: 0.9278 - val_loss: 0.2247 - val_acc: 0.9139\nEpoch 12/50\n3309/3309 [==============================] - 90s 27ms/step - loss: 0.1525 - acc: 0.9383 - val_loss: 0.2590 - val_acc: 0.9067\nEpoch 13/50\n3309/3309 [==============================] - 92s 28ms/step - loss: 0.1487 - acc: 0.9390 - val_loss: 0.2535 - val_acc: 0.9022\nEpoch 14/50\n3309/3309 [==============================] - 91s 27ms/step - loss: 0.1415 - acc: 0.9429 - val_loss: 0.2321 - val_acc: 0.9103\nEpoch 15/50\n3309/3309 [==============================] - 92s 28ms/step - loss: 0.1155 - acc: 0.9538 - val_loss: 0.2405 - val_acc: 0.9194\nEpoch 16/50\n3309/3309 [==============================] - 91s 28ms/step - loss: 0.1278 - acc: 0.9516 - val_loss: 0.2256 - val_acc: 0.9149\nEpoch 17/50\n3309/3309 [==============================] - 92s 28ms/step - loss: 0.1154 - acc: 0.9556 - val_loss: 0.2230 - val_acc: 0.9230\nEpoch 18/50\n3296/3309 [============================>.] - ETA: 0s - loss: 0.1087 - acc: 0.9596\nEpoch 00018: reducing learning rate to 0.00010000000474974513.\n3309/3309 [==============================] - 92s 28ms/step - loss: 0.1084 - acc: 0.9598 - val_loss: 0.2734 - val_acc: 0.9094\nEpoch 19/50\n3309/3309 [==============================] - 93s 28ms/step - loss: 0.0581 - acc: 0.9785 - val_loss: 0.2384 - val_acc: 0.9257\nEpoch 20/50\n3309/3309 [==============================] - 92s 28ms/step - loss: 0.0484 - acc: 0.9825 - val_loss: 0.2405 - val_acc: 0.9257\n",
          "name": "stdout"
        },
        {
          "output_type": "execute_result",
          "execution_count": 115,
          "data": {
            "text/plain": "<keras.callbacks.History at 0x7fcfce6ba940>"
          },
          "metadata": {}
        }
      ]
    },
    {
      "metadata": {
        "_uuid": "9d24cf0fc1c16a191a292cc2b2f980a09cd024d0",
        "_cell_guid": "4218bfc9-ab3f-4d21-85d6-f94d0d7d8546"
      },
      "cell_type": "markdown",
      "source": "## Results"
    },
    {
      "metadata": {
        "_uuid": "5b318d35d321fb086abff8bf0127bd7f4e8bffd4",
        "_cell_guid": "a9ed1ef9-5c02-4ad3-b194-87ac66abe186"
      },
      "cell_type": "markdown",
      "source": "Load the best weights and check the score on the training data."
    },
    {
      "metadata": {
        "_uuid": "7c362819ea7e89e54ecabfc7d17b497f0d06b764",
        "_cell_guid": "4ba686cb-4b3e-4f56-b9d9-bad79ab28689",
        "trusted": false,
        "collapsed": true
      },
      "cell_type": "code",
      "source": "model.load_weights(filepath = '.mdl_wts.hdf5')\n\nscore = model.evaluate(Xtrain, Ytrain, verbose=1)\nprint('Train score:', score[0])\nprint('Train accuracy:', score[1])",
      "execution_count": null,
      "outputs": []
    },
    {
      "metadata": {
        "_uuid": "c4c25cb093912bc6ee406d2698bd71822e6dd23c",
        "_cell_guid": "70050e6f-45e0-4c3f-8c8e-585dd69b8c4e"
      },
      "cell_type": "markdown",
      "source": "Now, to make a submission, load the test data and train the model and output a csv file."
    },
    {
      "metadata": {
        "_uuid": "2892d23d42f81ea2e61898da0f01ea68cd1f0f41",
        "_cell_guid": "7a64efcf-3e7b-472f-806c-1d90e09b2228",
        "trusted": false,
        "collapsed": true
      },
      "cell_type": "code",
      "source": "df_test = pd.read_json('../input/test.json')\ndf_test.inc_angle = df_test.inc_angle.replace('na',0)\nXtest = (get_scaled_imgs(df_test))\npred_test = model.predict(Xtest)\n\nsubmission = pd.DataFrame({'id': df_test[\"id\"], 'is_iceberg': pred_test.reshape((pred_test.shape[0]))})\nprint(submission.head(10))\n\nsubmission.to_csv('submission.csv', index=False)",
      "execution_count": null,
      "outputs": []
    },
    {
      "metadata": {
        "_uuid": "5a789e5503e9c99ea771347637593f2f1b32f0e1",
        "_cell_guid": "a760f72b-becb-47ae-8184-d513ea622f75"
      },
      "cell_type": "markdown",
      "source": "The best submission with this I received was 0.1995 on the leaderboard. Have a go and see how well you can do!"
    }
  ],
  "metadata": {
    "language_info": {
      "name": "python",
      "version": "3.6.3",
      "mimetype": "text/x-python",
      "codemirror_mode": {
        "name": "ipython",
        "version": 3
      },
      "pygments_lexer": "ipython3",
      "nbconvert_exporter": "python",
      "file_extension": ".py"
    },
    "kernelspec": {
      "display_name": "Python 3",
      "language": "python",
      "name": "python3"
    }
  },
  "nbformat": 4,
  "nbformat_minor": 1
}