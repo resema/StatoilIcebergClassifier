{
  "cells": [
    {
      "metadata": {
        "_cell_guid": "c825acee-1835-4fa0-a14a-0c40a589577a",
        "_uuid": "a84233f5cbe98d402d74f46e87e7d745540b2cc8"
      },
      "cell_type": "markdown",
      "source": "This Kernal implements a Keras + Tensorflow CNN for the StatOil Iceberg competition. It has yielded results of 0.1995 on the leaderboard. With some tuning and image filtering plus more of an inclusion of the incident angle, a better result could be yielded I'm sure.\n\nThe input is a 75x75x3 set of images. The output is a binary 0/1 where 1 is noteed as an iceberg. \n\nThe set of images are band_1 (HH), band_2 (HV), and an combined band which would be (HH dot HV)/constant. However, since we are working with the images in dB, the 3rd band is modified to compenate for the log function yielding band_1 + band_2 -log(constant). The last term is neglected as when the images are scaled the 3rd term would be removed by the mathematics anyway.\n\nThis and other information can be found from: https://earth.esa.int/c/document_library/get_file?folderId=409229&name=DLFE-5566.pdf"
    },
    {
      "metadata": {
        "_cell_guid": "3742280f-b7f8-4639-a1dc-fe34c5d0bbe5",
        "_uuid": "fb4f08cce0aaddbda853b5c86f8b66e6189b10a4"
      },
      "cell_type": "markdown",
      "source": "## Imports"
    },
    {
      "metadata": {
        "_cell_guid": "06ed8576-67b0-407a-bec3-a8919432eb4b",
        "_uuid": "a6025efc05dbb5d0a9f30e1b70e6178a52f7bb5b",
        "trusted": true,
        "collapsed": true
      },
      "cell_type": "code",
      "source": "import pandas as pd \nimport numpy as np \nimport cv2 # Used to manipulated the images \nnp.random.seed(1337) # The seed I used - pick your own or comment out for a random seed. A constant seed allows for better comparisons though\n\n# Import Keras \nfrom keras.models import Sequential, Model\nfrom keras.layers import Dense, Dropout, Flatten, Activation, Add, AveragePooling2D\nfrom keras.layers import Conv2D, MaxPooling2D, Input, ZeroPadding2D\nfrom keras.callbacks import EarlyStopping, ModelCheckpoint, ReduceLROnPlateau\nfrom keras.layers.normalization import BatchNormalization\nfrom keras.optimizers import Adam\nfrom keras.initializers import glorot_uniform",
      "execution_count": 24,
      "outputs": []
    },
    {
      "metadata": {
        "_cell_guid": "4d270cfb-b795-4fcb-a9a1-036d76df11cd",
        "_uuid": "edd393b24524487da40e6afded38bf69420e4c0c"
      },
      "cell_type": "markdown",
      "source": "## Load Training Data"
    },
    {
      "metadata": {
        "_cell_guid": "3929b5f5-42ae-4129-be7d-bb62ef9a0892",
        "_uuid": "8b4c8df78f70528e640d2fa67224d81122f19c09",
        "scrolled": true,
        "trusted": true
      },
      "cell_type": "code",
      "source": "df_train = pd.read_json('../input/train.json') # this is a dataframe\nprint(len(df_train['band_1'][0]))",
      "execution_count": 2,
      "outputs": [
        {
          "name": "stdout",
          "output_type": "stream",
          "text": "5625\n"
        }
      ]
    },
    {
      "metadata": {
        "_cell_guid": "acd72dcd-7a59-4b81-9181-b03c96d33698",
        "_uuid": "fc90560cb8c46a84df31a27f202521f174393da0"
      },
      "cell_type": "markdown",
      "source": "Need to reshape and feature scale the images:"
    },
    {
      "metadata": {
        "_cell_guid": "715ebc9b-0999-456e-8ed0-bc96e05e0128",
        "_uuid": "2782430813d6deda5a6f8aae1cc385586538f5c5",
        "collapsed": true,
        "trusted": true
      },
      "cell_type": "code",
      "source": "def get_scaled_imgs(df):\n    imgs = []\n    \n    for i, row in df.iterrows():\n        #make 75x75 image\n        band_1 = np.array(row['band_1']).reshape(75, 75)\n        band_2 = np.array(row['band_2']).reshape(75, 75)\n        band_3 = band_1 + band_2 # plus since log(x*y) = log(x) + log(y)\n        \n        # Rescale\n        a = (band_1 - band_1.mean()) / (band_1.max() - band_1.min())\n        b = (band_2 - band_2.mean()) / (band_2.max() - band_2.min())\n        c = (band_3 - band_3.mean()) / (band_3.max() - band_3.min())\n\n        imgs.append(np.dstack((a, b, c)))\n\n    return np.array(imgs)",
      "execution_count": 3,
      "outputs": []
    },
    {
      "metadata": {
        "_cell_guid": "85302ec3-62ea-428b-94d1-4e5cfce6636a",
        "_uuid": "5c5e277b79272ef634783caf1fe8aa16447d6a3a",
        "trusted": true
      },
      "cell_type": "code",
      "source": "Xtrain = get_scaled_imgs(df_train)\nprint(Xtrain.shape)",
      "execution_count": 4,
      "outputs": [
        {
          "name": "stdout",
          "output_type": "stream",
          "text": "(1604, 75, 75, 3)\n"
        }
      ]
    },
    {
      "metadata": {
        "_cell_guid": "c82bf9e6-0037-451d-9ca5-e6ff8d308e5c",
        "_uuid": "fd2fd9004992dbf7423c7c3f2b6307e82e99cb43"
      },
      "cell_type": "markdown",
      "source": "Get the response variable \"is_iceberg\""
    },
    {
      "metadata": {
        "_cell_guid": "cef1dcf0-a325-42f9-b67c-e6cecd8b905f",
        "_uuid": "3d86dd956ad0c36ce3ad1b7b3f498478b44c93b4",
        "trusted": true
      },
      "cell_type": "code",
      "source": "Ytrain = np.array(df_train['is_iceberg'])\nprint(df_train['is_iceberg'][1603])",
      "execution_count": 5,
      "outputs": [
        {
          "name": "stdout",
          "output_type": "stream",
          "text": "0\n"
        }
      ]
    },
    {
      "metadata": {
        "_cell_guid": "969b8bf1-97ff-43a5-8559-de6b30e7f067",
        "_uuid": "5e26d33941b02e8fd5f9447ffa81643a94b4b47c"
      },
      "cell_type": "markdown",
      "source": "Some of the incident angle from the satellite are unknown and marked as \"na\". Replace these na with 0 and find the indices where the incident angle is >0 (this way you can use a truncated set or the full set of training data)."
    },
    {
      "metadata": {
        "_cell_guid": "8cd73730-f3ac-4aac-8abd-1908db72aa14",
        "_uuid": "5e9a904a1dab28585c117f6fc751fee3297b95b5",
        "collapsed": true,
        "trusted": true
      },
      "cell_type": "code",
      "source": "# No incident angles are zero??\n#np.where(df_train.inc_angle==0)  # --> NO, good!\n\ndf_train.inc_angle = df_train.inc_angle.replace('na',0)\nidx_tr = np.where(df_train.inc_angle>0)",
      "execution_count": 6,
      "outputs": []
    },
    {
      "metadata": {
        "_cell_guid": "ec8be8e9-66aa-4952-8e85-25a425146e04",
        "_uuid": "a6685ee2d0e7f58bb5f0ec4c2ed7b85451edd384"
      },
      "cell_type": "markdown",
      "source": "You can now use the option of training with only known incident angles or the whole set. I found slightly better results training with only the known incident angles so:"
    },
    {
      "metadata": {
        "_cell_guid": "1b90f6f0-2cf7-4cfd-8186-791c7ac7122f",
        "_uuid": "9f34935b2730a0ba9748916a278d14b4eb76b1c0",
        "collapsed": true,
        "trusted": true
      },
      "cell_type": "code",
      "source": "Ytrain = Ytrain[idx_tr[0]]\nXtrain = Xtrain[idx_tr[0],...]",
      "execution_count": 7,
      "outputs": []
    },
    {
      "metadata": {
        "_cell_guid": "306fe2f3-f417-4f2d-956b-2cc98c8b955b",
        "_uuid": "8da34b46d1f4c96d9f32239df3b61573cde9d0e1"
      },
      "cell_type": "markdown",
      "source": "## Adding images for training"
    },
    {
      "metadata": {
        "_cell_guid": "49117bf4-dbdd-4ea5-95ca-af23ed35053e",
        "_uuid": "fba1fe217316a5ca70887c67d2c0c158cb8c02dc"
      },
      "cell_type": "markdown",
      "source": "Now, the biggest improvement I had was by adding more data to train on. I did this by simply including horizontally and vertically flipped data. Using OpenCV this is easily done."
    },
    {
      "metadata": {
        "_cell_guid": "f069618d-46f0-42f0-8e83-e5a4716bb965",
        "_uuid": "760fa192e912111b39d3d0ee3fadd9c7fd0eb628",
        "collapsed": true,
        "trusted": true
      },
      "cell_type": "code",
      "source": "def get_more_images(imgs):\n    \n    more_images = []\n    vert_flip_imgs = []\n    hori_flip_imgs = []\n      \n    for i in range(0,imgs.shape[0]):\n        a=imgs[i,:,:,0]\n        b=imgs[i,:,:,1]\n        c=imgs[i,:,:,2]\n        \n        av=cv2.flip(a,1)\n        ah=cv2.flip(a,0)\n        bv=cv2.flip(b,1)\n        bh=cv2.flip(b,0)\n        cv=cv2.flip(c,1)\n        ch=cv2.flip(c,0)\n        \n        vert_flip_imgs.append(np.dstack((av, bv, cv)))\n        hori_flip_imgs.append(np.dstack((ah, bh, ch)))\n      \n    v = np.array(vert_flip_imgs)\n    h = np.array(hori_flip_imgs)\n       \n    more_images = np.concatenate((imgs,v,h))\n    \n    return more_images\n",
      "execution_count": 8,
      "outputs": []
    },
    {
      "metadata": {
        "_cell_guid": "31907cfa-6fdd-400d-ba9e-b755c40c7630",
        "_uuid": "39719b4ceb5cbfc4bf94461d3108e77f3688ad84"
      },
      "cell_type": "markdown",
      "source": "I rename the returned value so i have the option of using the original data set or the expanded data set"
    },
    {
      "metadata": {
        "_cell_guid": "f5cf48ee-7f83-44c0-9d13-61d492a27428",
        "_uuid": "bbab6fcb834b8f5eaf9f56ecef2d068df617b749",
        "collapsed": true,
        "trusted": true
      },
      "cell_type": "code",
      "source": "Xtr_more = get_more_images(Xtrain) ",
      "execution_count": 9,
      "outputs": []
    },
    {
      "metadata": {
        "_cell_guid": "58261f5c-de26-41f5-805b-2fec1fabffef",
        "_uuid": "99e06106fcbf3b642f2e7f7c63da33a356a09157"
      },
      "cell_type": "markdown",
      "source": "And then define the new response variable:"
    },
    {
      "metadata": {
        "_cell_guid": "3c8be0d9-9dee-45e8-affc-7ad95c30e111",
        "_uuid": "f735f520aab4cfd64ae9e0a098aa441372c5b8b7",
        "collapsed": true,
        "trusted": true
      },
      "cell_type": "code",
      "source": "Ytr_more = np.concatenate((Ytrain,Ytrain,Ytrain))",
      "execution_count": 10,
      "outputs": []
    },
    {
      "metadata": {
        "_uuid": "5b4b4428e7c2cda9b1d02afa6b741011d5672080"
      },
      "cell_type": "markdown",
      "source": "## ResNet Model"
    },
    {
      "metadata": {
        "_uuid": "9616ef6248923ddaf61f1b024b4df42caf5e3030"
      },
      "cell_type": "markdown",
      "source": "Lets use as an alternative a ResNet model. It is inspired by the coursera course by Andrew Ng."
    },
    {
      "metadata": {
        "collapsed": true,
        "trusted": true,
        "_uuid": "c99bad61b1af3a21d771cf625ab58b7b66744c5a"
      },
      "cell_type": "code",
      "source": "def identity_block(X, f, filters, stage, block):\n    # defining name basis\n    conv_name_base = 'res' + str(stage) + block + '_branch'\n    bn_name_base = 'bn' + str(stage) + block + '_branch'\n    \n    # retrieve filters\n    F1, F2, F3 = filters\n    \n    # save the input value\n    X_shortcut = X\n    \n    # first component of main path\n    X = Conv2D(filters=F1, kernel_size=(1,1), strides=(1,1), padding='valid', name=conv_name_base + '2a', kernel_initializer = glorot_uniform(seed=0))(X)\n    X = BatchNormalization(axis=3, name=bn_name_base+'2a')(X)\n    X = Activation('relu')(X)\n    \n    # Second component of main path\n    X = Conv2D(filters = F2, kernel_size= (f,f), strides = (1,1), padding = 'same', name = conv_name_base + '2b', kernel_initializer = glorot_uniform(seed=0))(X)\n    X = BatchNormalization(axis = 3, name = bn_name_base + '2b')(X)\n    X = Activation('relu')(X)\n\n    # Third component of main path\n    X = Conv2D(filters=F3, kernel_size=(1,1), strides=(1,1), padding='valid', name=conv_name_base + '2c', kernel_initializer=glorot_uniform(seed=0))(X)\n    X = BatchNormalization(axis=3, name=bn_name_base + '2c')(X)\n    \n    # add shortcut value to main path\n    X = Add()([X,X_shortcut])\n    X = Activation('relu')(X)\n    \n    return X",
      "execution_count": 26,
      "outputs": []
    },
    {
      "metadata": {
        "collapsed": true,
        "trusted": true,
        "_uuid": "f3915a61b9651817014b3374bbce1326558cf76a"
      },
      "cell_type": "code",
      "source": "def convolutional_block(X, f, filters, stage, block, s = 2):\n    # defining name basis\n    conv_name_base = 'res' + str(stage) + block + '_branch'\n    bn_name_base = 'bn' + str(stage) + block + '_branch'\n    \n    # Retrieve Filters\n    F1, F2, F3 = filters\n    \n    # Save the input value\n    X_shortcut = X\n\n    # First component of main path \n    X = Conv2D(F1, (1, 1), strides = (s,s), name = conv_name_base + '2a', kernel_initializer = glorot_uniform(seed=0))(X)\n    X = BatchNormalization(axis = 3, name = bn_name_base + '2a')(X)\n    X = Activation('relu')(X)\n    \n    # Second component of main path\n    X = Conv2D(F2, (f,f), strides=(1,1), padding='same', name=conv_name_base + '2b', kernel_initializer=glorot_uniform(seed=0))(X)\n    X = BatchNormalization(axis=3, name=bn_name_base + '2b')(X)\n    X = Activation('relu')(X)\n\n    # Third component of main path\n    X = Conv2D(F3, (1,1), strides=(1,1), name=conv_name_base + '2c', kernel_initializer=glorot_uniform(seed=0))(X)\n    X = BatchNormalization(axis=3, name=bn_name_base + '2c')(X)\n\n    # add shortcut value to main path\n    X_shortcut = Conv2D(F3, (1,1), strides=(s,s), name=conv_name_base + '1', kernel_initializer=glorot_uniform(seed=0))(X_shortcut)\n    X_shortcut = BatchNormalization(axis=3, name=bn_name_base + '1')(X_shortcut)\n\n    # Final step: Add shortcut value to main path, and pass it through a RELU activation\n    X = Add()([X, X_shortcut])\n    X = Activation('relu')(X)\n    \n    return X",
      "execution_count": 13,
      "outputs": []
    },
    {
      "metadata": {
        "collapsed": true,
        "trusted": true,
        "_uuid": "02ed4e64f3dcd7039174a2cd0e0e51d27a2b7849"
      },
      "cell_type": "code",
      "source": "def ResNet50(input_shape = (75, 75, 3), classes = 6):\n    # Define the input as a tensor with shape input_shape\n    X_input = Input(input_shape)\n\n    # Zero-Padding\n    X = ZeroPadding2D((3, 3))(X_input)\n    \n    # Stage 1\n    X = Conv2D(75, (7, 7), strides = (2, 2), name = 'conv1', kernel_initializer = glorot_uniform(seed=0))(X)\n    X = BatchNormalization(axis = 3, name = 'bn_conv1')(X)\n    X = Activation('relu')(X)\n    X = MaxPooling2D((3, 3), strides=(2, 2))(X)\n\n    # Stage 2\n    X = convolutional_block(X, f = 3, filters = [64, 64, 256], stage = 2, block='a', s = 1)\n    X = identity_block(X, 3, [64, 64, 256], stage=2, block='b')\n    X = identity_block(X, 3, [64, 64, 256], stage=2, block='c')\n\n    # Stage 3\n    X = convolutional_block(X,f=3, filters=[128,128,512], stage=3, block='a', s=2)\n    X = identity_block(X, 3, [128,128,512], stage=3, block='b')\n    X = identity_block(X, 3, [128,128,512], stage=3, block='c')\n    X = identity_block(X, 3, [128,128,512], stage=3, block='d')\n\n    # Stage 4\n    X = convolutional_block(X, f=3, filters=[256, 256, 1024], stage=4, block='a', s=2)\n    X = identity_block(X, 3, [256,256,1024], stage=4, block='b')\n    X = identity_block(X, 3, [256,256,1024], stage=4, block='c')\n    X = identity_block(X, 3, [256,256,1024], stage=4, block='d')\n    X = identity_block(X, 3, [256,256,1024], stage=4, block='e')\n    X = identity_block(X, 3, [256,256,1024], stage=4, block='f')\n\n    # Stage 5\n    X = convolutional_block(X, f=3, filters=[512, 512, 2048], stage=5, block='a', s=2)\n    X = identity_block(X, 3, [512,512,2048], stage=5, block='b')\n    X = identity_block(X, 3, [512,512,2048], stage=5, block='c')\n\n    # AVGPOOL\n    X = AveragePooling2D(pool_size=(2,2), strides=None, name='avg_pool')(X)\n    \n    # output layer\n    X = Flatten()(X)\n    X = Dense(classes, activation='softmax', name='fc' + str(classes), kernel_initializer = glorot_uniform(seed=0))(X)\n    \n    # Create model\n    model = Model(inputs = X_input, outputs = X, name='ResNet50')\n\n    return model",
      "execution_count": 47,
      "outputs": []
    },
    {
      "metadata": {
        "trusted": true,
        "collapsed": true,
        "_uuid": "3df5453d76252a8f590cf8a6119bc3f2b9377ea4"
      },
      "cell_type": "code",
      "source": "model = ResNet50(input_shape=(75,75,3), classes=2)",
      "execution_count": 48,
      "outputs": []
    },
    {
      "metadata": {
        "collapsed": true,
        "trusted": true,
        "_uuid": "a9ae10ee253047ad4177aea63f0c793388cea633"
      },
      "cell_type": "code",
      "source": "model.compile(optimizer='adam', loss='categorical_crossentropy', metrics=['accuracy'])",
      "execution_count": 49,
      "outputs": []
    },
    {
      "metadata": {
        "trusted": true,
        "_uuid": "439d0d77975c1de1bad039413e13efa7770bf389"
      },
      "cell_type": "code",
      "source": "model.summary()\n\nbatch_size = 32\nearlyStopping = EarlyStopping(monitor='val_loss', patience=10, verbose=0, mode='min')\nmcp_save = ModelCheckpoint('.mdl_wts.hdf5', save_best_only=True, monitor='val_loss', mode='min')\nreduce_lr_loss = ReduceLROnPlateau(monitor='val_loss', factor=0.1, patience=7, verbose=1, epsilon=1e-4, mode='min')",
      "execution_count": 50,
      "outputs": [
        {
          "output_type": "stream",
          "text": "__________________________________________________________________________________________________\nLayer (type)                    Output Shape         Param #     Connected to                     \n==================================================================================================\ninput_9 (InputLayer)            (None, 75, 75, 3)    0                                            \n__________________________________________________________________________________________________\nzero_padding2d_8 (ZeroPadding2D (None, 81, 81, 3)    0           input_9[0][0]                    \n__________________________________________________________________________________________________\nconv1 (Conv2D)                  (None, 38, 38, 75)   11100       zero_padding2d_8[0][0]           \n__________________________________________________________________________________________________\nbn_conv1 (BatchNormalization)   (None, 38, 38, 75)   300         conv1[0][0]                      \n__________________________________________________________________________________________________\nactivation_298 (Activation)     (None, 38, 38, 75)   0           bn_conv1[0][0]                   \n__________________________________________________________________________________________________\nmax_pooling2d_8 (MaxPooling2D)  (None, 18, 18, 75)   0           activation_298[0][0]             \n__________________________________________________________________________________________________\nres2a_branch2a (Conv2D)         (None, 18, 18, 64)   4864        max_pooling2d_8[0][0]            \n__________________________________________________________________________________________________\nbn2a_branch2a (BatchNormalizati (None, 18, 18, 64)   256         res2a_branch2a[0][0]             \n__________________________________________________________________________________________________\nactivation_299 (Activation)     (None, 18, 18, 64)   0           bn2a_branch2a[0][0]              \n__________________________________________________________________________________________________\nres2a_branch2b (Conv2D)         (None, 18, 18, 64)   36928       activation_299[0][0]             \n__________________________________________________________________________________________________\nbn2a_branch2b (BatchNormalizati (None, 18, 18, 64)   256         res2a_branch2b[0][0]             \n__________________________________________________________________________________________________\nactivation_300 (Activation)     (None, 18, 18, 64)   0           bn2a_branch2b[0][0]              \n__________________________________________________________________________________________________\nres2a_branch2c (Conv2D)         (None, 18, 18, 256)  16640       activation_300[0][0]             \n__________________________________________________________________________________________________\nres2a_branch1 (Conv2D)          (None, 18, 18, 256)  19456       max_pooling2d_8[0][0]            \n__________________________________________________________________________________________________\nbn2a_branch2c (BatchNormalizati (None, 18, 18, 256)  1024        res2a_branch2c[0][0]             \n__________________________________________________________________________________________________\nbn2a_branch1 (BatchNormalizatio (None, 18, 18, 256)  1024        res2a_branch1[0][0]              \n__________________________________________________________________________________________________\nadd_97 (Add)                    (None, 18, 18, 256)  0           bn2a_branch2c[0][0]              \n                                                                 bn2a_branch1[0][0]               \n__________________________________________________________________________________________________\nactivation_301 (Activation)     (None, 18, 18, 256)  0           add_97[0][0]                     \n__________________________________________________________________________________________________\nres2b_branch2a (Conv2D)         (None, 18, 18, 64)   16448       activation_301[0][0]             \n__________________________________________________________________________________________________\nbn2b_branch2a (BatchNormalizati (None, 18, 18, 64)   256         res2b_branch2a[0][0]             \n__________________________________________________________________________________________________\nactivation_302 (Activation)     (None, 18, 18, 64)   0           bn2b_branch2a[0][0]              \n__________________________________________________________________________________________________\nres2b_branch2b (Conv2D)         (None, 18, 18, 64)   36928       activation_302[0][0]             \n__________________________________________________________________________________________________\nbn2b_branch2b (BatchNormalizati (None, 18, 18, 64)   256         res2b_branch2b[0][0]             \n__________________________________________________________________________________________________\nactivation_303 (Activation)     (None, 18, 18, 64)   0           bn2b_branch2b[0][0]              \n__________________________________________________________________________________________________\nres2b_branch2c (Conv2D)         (None, 18, 18, 256)  16640       activation_303[0][0]             \n__________________________________________________________________________________________________\nbn2b_branch2c (BatchNormalizati (None, 18, 18, 256)  1024        res2b_branch2c[0][0]             \n__________________________________________________________________________________________________\nadd_98 (Add)                    (None, 18, 18, 256)  0           bn2b_branch2c[0][0]              \n                                                                 activation_301[0][0]             \n__________________________________________________________________________________________________\nactivation_304 (Activation)     (None, 18, 18, 256)  0           add_98[0][0]                     \n__________________________________________________________________________________________________\nres2c_branch2a (Conv2D)         (None, 18, 18, 64)   16448       activation_304[0][0]             \n__________________________________________________________________________________________________\nbn2c_branch2a (BatchNormalizati (None, 18, 18, 64)   256         res2c_branch2a[0][0]             \n__________________________________________________________________________________________________\nactivation_305 (Activation)     (None, 18, 18, 64)   0           bn2c_branch2a[0][0]              \n__________________________________________________________________________________________________\nres2c_branch2b (Conv2D)         (None, 18, 18, 64)   36928       activation_305[0][0]             \n__________________________________________________________________________________________________\nbn2c_branch2b (BatchNormalizati (None, 18, 18, 64)   256         res2c_branch2b[0][0]             \n__________________________________________________________________________________________________\nactivation_306 (Activation)     (None, 18, 18, 64)   0           bn2c_branch2b[0][0]              \n__________________________________________________________________________________________________\nres2c_branch2c (Conv2D)         (None, 18, 18, 256)  16640       activation_306[0][0]             \n__________________________________________________________________________________________________\nbn2c_branch2c (BatchNormalizati (None, 18, 18, 256)  1024        res2c_branch2c[0][0]             \n__________________________________________________________________________________________________\nadd_99 (Add)                    (None, 18, 18, 256)  0           bn2c_branch2c[0][0]              \n                                                                 activation_304[0][0]             \n__________________________________________________________________________________________________\nactivation_307 (Activation)     (None, 18, 18, 256)  0           add_99[0][0]                     \n__________________________________________________________________________________________________\nres3a_branch2a (Conv2D)         (None, 9, 9, 128)    32896       activation_307[0][0]             \n__________________________________________________________________________________________________\nbn3a_branch2a (BatchNormalizati (None, 9, 9, 128)    512         res3a_branch2a[0][0]             \n__________________________________________________________________________________________________\nactivation_308 (Activation)     (None, 9, 9, 128)    0           bn3a_branch2a[0][0]              \n__________________________________________________________________________________________________\nres3a_branch2b (Conv2D)         (None, 9, 9, 128)    147584      activation_308[0][0]             \n__________________________________________________________________________________________________\nbn3a_branch2b (BatchNormalizati (None, 9, 9, 128)    512         res3a_branch2b[0][0]             \n__________________________________________________________________________________________________\nactivation_309 (Activation)     (None, 9, 9, 128)    0           bn3a_branch2b[0][0]              \n__________________________________________________________________________________________________\nres3a_branch2c (Conv2D)         (None, 9, 9, 512)    66048       activation_309[0][0]             \n__________________________________________________________________________________________________\nres3a_branch1 (Conv2D)          (None, 9, 9, 512)    131584      activation_307[0][0]             \n__________________________________________________________________________________________________\nbn3a_branch2c (BatchNormalizati (None, 9, 9, 512)    2048        res3a_branch2c[0][0]             \n__________________________________________________________________________________________________\nbn3a_branch1 (BatchNormalizatio (None, 9, 9, 512)    2048        res3a_branch1[0][0]              \n__________________________________________________________________________________________________\nadd_100 (Add)                   (None, 9, 9, 512)    0           bn3a_branch2c[0][0]              \n                                                                 bn3a_branch1[0][0]               \n__________________________________________________________________________________________________\nactivation_310 (Activation)     (None, 9, 9, 512)    0           add_100[0][0]                    \n__________________________________________________________________________________________________\nres3b_branch2a (Conv2D)         (None, 9, 9, 128)    65664       activation_310[0][0]             \n__________________________________________________________________________________________________\nbn3b_branch2a (BatchNormalizati (None, 9, 9, 128)    512         res3b_branch2a[0][0]             \n__________________________________________________________________________________________________\nactivation_311 (Activation)     (None, 9, 9, 128)    0           bn3b_branch2a[0][0]              \n__________________________________________________________________________________________________\nres3b_branch2b (Conv2D)         (None, 9, 9, 128)    147584      activation_311[0][0]             \n__________________________________________________________________________________________________\nbn3b_branch2b (BatchNormalizati (None, 9, 9, 128)    512         res3b_branch2b[0][0]             \n__________________________________________________________________________________________________\nactivation_312 (Activation)     (None, 9, 9, 128)    0           bn3b_branch2b[0][0]              \n__________________________________________________________________________________________________\nres3b_branch2c (Conv2D)         (None, 9, 9, 512)    66048       activation_312[0][0]             \n__________________________________________________________________________________________________\nbn3b_branch2c (BatchNormalizati (None, 9, 9, 512)    2048        res3b_branch2c[0][0]             \n__________________________________________________________________________________________________\nadd_101 (Add)                   (None, 9, 9, 512)    0           bn3b_branch2c[0][0]              \n                                                                 activation_310[0][0]             \n__________________________________________________________________________________________________\nactivation_313 (Activation)     (None, 9, 9, 512)    0           add_101[0][0]                    \n__________________________________________________________________________________________________\nres3c_branch2a (Conv2D)         (None, 9, 9, 128)    65664       activation_313[0][0]             \n__________________________________________________________________________________________________\nbn3c_branch2a (BatchNormalizati (None, 9, 9, 128)    512         res3c_branch2a[0][0]             \n__________________________________________________________________________________________________\nactivation_314 (Activation)     (None, 9, 9, 128)    0           bn3c_branch2a[0][0]              \n__________________________________________________________________________________________________\nres3c_branch2b (Conv2D)         (None, 9, 9, 128)    147584      activation_314[0][0]             \n__________________________________________________________________________________________________\nbn3c_branch2b (BatchNormalizati (None, 9, 9, 128)    512         res3c_branch2b[0][0]             \n__________________________________________________________________________________________________\nactivation_315 (Activation)     (None, 9, 9, 128)    0           bn3c_branch2b[0][0]              \n__________________________________________________________________________________________________\nres3c_branch2c (Conv2D)         (None, 9, 9, 512)    66048       activation_315[0][0]             \n__________________________________________________________________________________________________\nbn3c_branch2c (BatchNormalizati (None, 9, 9, 512)    2048        res3c_branch2c[0][0]             \n__________________________________________________________________________________________________\nadd_102 (Add)                   (None, 9, 9, 512)    0           bn3c_branch2c[0][0]              \n                                                                 activation_313[0][0]             \n__________________________________________________________________________________________________\nactivation_316 (Activation)     (None, 9, 9, 512)    0           add_102[0][0]                    \n__________________________________________________________________________________________________\nres3d_branch2a (Conv2D)         (None, 9, 9, 128)    65664       activation_316[0][0]             \n__________________________________________________________________________________________________\nbn3d_branch2a (BatchNormalizati (None, 9, 9, 128)    512         res3d_branch2a[0][0]             \n__________________________________________________________________________________________________\nactivation_317 (Activation)     (None, 9, 9, 128)    0           bn3d_branch2a[0][0]              \n__________________________________________________________________________________________________\nres3d_branch2b (Conv2D)         (None, 9, 9, 128)    147584      activation_317[0][0]             \n__________________________________________________________________________________________________\nbn3d_branch2b (BatchNormalizati (None, 9, 9, 128)    512         res3d_branch2b[0][0]             \n__________________________________________________________________________________________________\nactivation_318 (Activation)     (None, 9, 9, 128)    0           bn3d_branch2b[0][0]              \n__________________________________________________________________________________________________\nres3d_branch2c (Conv2D)         (None, 9, 9, 512)    66048       activation_318[0][0]             \n__________________________________________________________________________________________________\nbn3d_branch2c (BatchNormalizati (None, 9, 9, 512)    2048        res3d_branch2c[0][0]             \n__________________________________________________________________________________________________\nadd_103 (Add)                   (None, 9, 9, 512)    0           bn3d_branch2c[0][0]              \n                                                                 activation_316[0][0]             \n__________________________________________________________________________________________________\nactivation_319 (Activation)     (None, 9, 9, 512)    0           add_103[0][0]                    \n__________________________________________________________________________________________________\nres4a_branch2a (Conv2D)         (None, 5, 5, 256)    131328      activation_319[0][0]             \n__________________________________________________________________________________________________\nbn4a_branch2a (BatchNormalizati (None, 5, 5, 256)    1024        res4a_branch2a[0][0]             \n__________________________________________________________________________________________________\nactivation_320 (Activation)     (None, 5, 5, 256)    0           bn4a_branch2a[0][0]              \n__________________________________________________________________________________________________\nres4a_branch2b (Conv2D)         (None, 5, 5, 256)    590080      activation_320[0][0]             \n__________________________________________________________________________________________________\nbn4a_branch2b (BatchNormalizati (None, 5, 5, 256)    1024        res4a_branch2b[0][0]             \n__________________________________________________________________________________________________\nactivation_321 (Activation)     (None, 5, 5, 256)    0           bn4a_branch2b[0][0]              \n__________________________________________________________________________________________________\nres4a_branch2c (Conv2D)         (None, 5, 5, 1024)   263168      activation_321[0][0]             \n__________________________________________________________________________________________________\nres4a_branch1 (Conv2D)          (None, 5, 5, 1024)   525312      activation_319[0][0]             \n__________________________________________________________________________________________________\nbn4a_branch2c (BatchNormalizati (None, 5, 5, 1024)   4096        res4a_branch2c[0][0]             \n__________________________________________________________________________________________________\nbn4a_branch1 (BatchNormalizatio (None, 5, 5, 1024)   4096        res4a_branch1[0][0]              \n__________________________________________________________________________________________________\nadd_104 (Add)                   (None, 5, 5, 1024)   0           bn4a_branch2c[0][0]              \n                                                                 bn4a_branch1[0][0]               \n__________________________________________________________________________________________________\nactivation_322 (Activation)     (None, 5, 5, 1024)   0           add_104[0][0]                    \n__________________________________________________________________________________________________\nres4b_branch2a (Conv2D)         (None, 5, 5, 256)    262400      activation_322[0][0]             \n__________________________________________________________________________________________________\nbn4b_branch2a (BatchNormalizati (None, 5, 5, 256)    1024        res4b_branch2a[0][0]             \n__________________________________________________________________________________________________\nactivation_323 (Activation)     (None, 5, 5, 256)    0           bn4b_branch2a[0][0]              \n__________________________________________________________________________________________________\nres4b_branch2b (Conv2D)         (None, 5, 5, 256)    590080      activation_323[0][0]             \n__________________________________________________________________________________________________\nbn4b_branch2b (BatchNormalizati (None, 5, 5, 256)    1024        res4b_branch2b[0][0]             \n__________________________________________________________________________________________________\nactivation_324 (Activation)     (None, 5, 5, 256)    0           bn4b_branch2b[0][0]              \n__________________________________________________________________________________________________\nres4b_branch2c (Conv2D)         (None, 5, 5, 1024)   263168      activation_324[0][0]             \n__________________________________________________________________________________________________\nbn4b_branch2c (BatchNormalizati (None, 5, 5, 1024)   4096        res4b_branch2c[0][0]             \n__________________________________________________________________________________________________\nadd_105 (Add)                   (None, 5, 5, 1024)   0           bn4b_branch2c[0][0]              \n                                                                 activation_322[0][0]             \n__________________________________________________________________________________________________\nactivation_325 (Activation)     (None, 5, 5, 1024)   0           add_105[0][0]                    \n__________________________________________________________________________________________________\nres4c_branch2a (Conv2D)         (None, 5, 5, 256)    262400      activation_325[0][0]             \n__________________________________________________________________________________________________\nbn4c_branch2a (BatchNormalizati (None, 5, 5, 256)    1024        res4c_branch2a[0][0]             \n__________________________________________________________________________________________________\nactivation_326 (Activation)     (None, 5, 5, 256)    0           bn4c_branch2a[0][0]              \n__________________________________________________________________________________________________\nres4c_branch2b (Conv2D)         (None, 5, 5, 256)    590080      activation_326[0][0]             \n__________________________________________________________________________________________________\nbn4c_branch2b (BatchNormalizati (None, 5, 5, 256)    1024        res4c_branch2b[0][0]             \n__________________________________________________________________________________________________\nactivation_327 (Activation)     (None, 5, 5, 256)    0           bn4c_branch2b[0][0]              \n__________________________________________________________________________________________________\nres4c_branch2c (Conv2D)         (None, 5, 5, 1024)   263168      activation_327[0][0]             \n__________________________________________________________________________________________________\nbn4c_branch2c (BatchNormalizati (None, 5, 5, 1024)   4096        res4c_branch2c[0][0]             \n__________________________________________________________________________________________________\nadd_106 (Add)                   (None, 5, 5, 1024)   0           bn4c_branch2c[0][0]              \n                                                                 activation_325[0][0]             \n__________________________________________________________________________________________________\nactivation_328 (Activation)     (None, 5, 5, 1024)   0           add_106[0][0]                    \n__________________________________________________________________________________________________\nres4d_branch2a (Conv2D)         (None, 5, 5, 256)    262400      activation_328[0][0]             \n__________________________________________________________________________________________________\nbn4d_branch2a (BatchNormalizati (None, 5, 5, 256)    1024        res4d_branch2a[0][0]             \n__________________________________________________________________________________________________\nactivation_329 (Activation)     (None, 5, 5, 256)    0           bn4d_branch2a[0][0]              \n__________________________________________________________________________________________________\nres4d_branch2b (Conv2D)         (None, 5, 5, 256)    590080      activation_329[0][0]             \n__________________________________________________________________________________________________\nbn4d_branch2b (BatchNormalizati (None, 5, 5, 256)    1024        res4d_branch2b[0][0]             \n__________________________________________________________________________________________________\nactivation_330 (Activation)     (None, 5, 5, 256)    0           bn4d_branch2b[0][0]              \n__________________________________________________________________________________________________\nres4d_branch2c (Conv2D)         (None, 5, 5, 1024)   263168      activation_330[0][0]             \n__________________________________________________________________________________________________\nbn4d_branch2c (BatchNormalizati (None, 5, 5, 1024)   4096        res4d_branch2c[0][0]             \n__________________________________________________________________________________________________\nadd_107 (Add)                   (None, 5, 5, 1024)   0           bn4d_branch2c[0][0]              \n                                                                 activation_328[0][0]             \n__________________________________________________________________________________________________\nactivation_331 (Activation)     (None, 5, 5, 1024)   0           add_107[0][0]                    \n__________________________________________________________________________________________________\nres4e_branch2a (Conv2D)         (None, 5, 5, 256)    262400      activation_331[0][0]             \n__________________________________________________________________________________________________\nbn4e_branch2a (BatchNormalizati (None, 5, 5, 256)    1024        res4e_branch2a[0][0]             \n__________________________________________________________________________________________________\nactivation_332 (Activation)     (None, 5, 5, 256)    0           bn4e_branch2a[0][0]              \n__________________________________________________________________________________________________\nres4e_branch2b (Conv2D)         (None, 5, 5, 256)    590080      activation_332[0][0]             \n__________________________________________________________________________________________________\nbn4e_branch2b (BatchNormalizati (None, 5, 5, 256)    1024        res4e_branch2b[0][0]             \n__________________________________________________________________________________________________\nactivation_333 (Activation)     (None, 5, 5, 256)    0           bn4e_branch2b[0][0]              \n__________________________________________________________________________________________________\nres4e_branch2c (Conv2D)         (None, 5, 5, 1024)   263168      activation_333[0][0]             \n__________________________________________________________________________________________________\nbn4e_branch2c (BatchNormalizati (None, 5, 5, 1024)   4096        res4e_branch2c[0][0]             \n__________________________________________________________________________________________________\nadd_108 (Add)                   (None, 5, 5, 1024)   0           bn4e_branch2c[0][0]              \n                                                                 activation_331[0][0]             \n__________________________________________________________________________________________________\nactivation_334 (Activation)     (None, 5, 5, 1024)   0           add_108[0][0]                    \n__________________________________________________________________________________________________\nres4f_branch2a (Conv2D)         (None, 5, 5, 256)    262400      activation_334[0][0]             \n__________________________________________________________________________________________________\nbn4f_branch2a (BatchNormalizati (None, 5, 5, 256)    1024        res4f_branch2a[0][0]             \n__________________________________________________________________________________________________\nactivation_335 (Activation)     (None, 5, 5, 256)    0           bn4f_branch2a[0][0]              \n__________________________________________________________________________________________________\nres4f_branch2b (Conv2D)         (None, 5, 5, 256)    590080      activation_335[0][0]             \n__________________________________________________________________________________________________\nbn4f_branch2b (BatchNormalizati (None, 5, 5, 256)    1024        res4f_branch2b[0][0]             \n__________________________________________________________________________________________________\nactivation_336 (Activation)     (None, 5, 5, 256)    0           bn4f_branch2b[0][0]              \n__________________________________________________________________________________________________\nres4f_branch2c (Conv2D)         (None, 5, 5, 1024)   263168      activation_336[0][0]             \n__________________________________________________________________________________________________\nbn4f_branch2c (BatchNormalizati (None, 5, 5, 1024)   4096        res4f_branch2c[0][0]             \n__________________________________________________________________________________________________\nadd_109 (Add)                   (None, 5, 5, 1024)   0           bn4f_branch2c[0][0]              \n                                                                 activation_334[0][0]             \n__________________________________________________________________________________________________\nactivation_337 (Activation)     (None, 5, 5, 1024)   0           add_109[0][0]                    \n__________________________________________________________________________________________________\nres5a_branch2a (Conv2D)         (None, 3, 3, 512)    524800      activation_337[0][0]             \n__________________________________________________________________________________________________\nbn5a_branch2a (BatchNormalizati (None, 3, 3, 512)    2048        res5a_branch2a[0][0]             \n__________________________________________________________________________________________________\nactivation_338 (Activation)     (None, 3, 3, 512)    0           bn5a_branch2a[0][0]              \n__________________________________________________________________________________________________\nres5a_branch2b (Conv2D)         (None, 3, 3, 512)    2359808     activation_338[0][0]             \n__________________________________________________________________________________________________\nbn5a_branch2b (BatchNormalizati (None, 3, 3, 512)    2048        res5a_branch2b[0][0]             \n__________________________________________________________________________________________________\nactivation_339 (Activation)     (None, 3, 3, 512)    0           bn5a_branch2b[0][0]              \n__________________________________________________________________________________________________\nres5a_branch2c (Conv2D)         (None, 3, 3, 2048)   1050624     activation_339[0][0]             \n__________________________________________________________________________________________________\nres5a_branch1 (Conv2D)          (None, 3, 3, 2048)   2099200     activation_337[0][0]             \n__________________________________________________________________________________________________\nbn5a_branch2c (BatchNormalizati (None, 3, 3, 2048)   8192        res5a_branch2c[0][0]             \n__________________________________________________________________________________________________\nbn5a_branch1 (BatchNormalizatio (None, 3, 3, 2048)   8192        res5a_branch1[0][0]              \n__________________________________________________________________________________________________\nadd_110 (Add)                   (None, 3, 3, 2048)   0           bn5a_branch2c[0][0]              \n                                                                 bn5a_branch1[0][0]               \n__________________________________________________________________________________________________\nactivation_340 (Activation)     (None, 3, 3, 2048)   0           add_110[0][0]                    \n__________________________________________________________________________________________________\nres5b_branch2a (Conv2D)         (None, 3, 3, 512)    1049088     activation_340[0][0]             \n__________________________________________________________________________________________________\nbn5b_branch2a (BatchNormalizati (None, 3, 3, 512)    2048        res5b_branch2a[0][0]             \n__________________________________________________________________________________________________\nactivation_341 (Activation)     (None, 3, 3, 512)    0           bn5b_branch2a[0][0]              \n__________________________________________________________________________________________________\nres5b_branch2b (Conv2D)         (None, 3, 3, 512)    2359808     activation_341[0][0]             \n__________________________________________________________________________________________________\nbn5b_branch2b (BatchNormalizati (None, 3, 3, 512)    2048        res5b_branch2b[0][0]             \n__________________________________________________________________________________________________\nactivation_342 (Activation)     (None, 3, 3, 512)    0           bn5b_branch2b[0][0]              \n__________________________________________________________________________________________________\nres5b_branch2c (Conv2D)         (None, 3, 3, 2048)   1050624     activation_342[0][0]             \n__________________________________________________________________________________________________\nbn5b_branch2c (BatchNormalizati (None, 3, 3, 2048)   8192        res5b_branch2c[0][0]             \n__________________________________________________________________________________________________\nadd_111 (Add)                   (None, 3, 3, 2048)   0           bn5b_branch2c[0][0]              \n                                                                 activation_340[0][0]             \n__________________________________________________________________________________________________\nactivation_343 (Activation)     (None, 3, 3, 2048)   0           add_111[0][0]                    \n__________________________________________________________________________________________________\nres5c_branch2a (Conv2D)         (None, 3, 3, 512)    1049088     activation_343[0][0]             \n__________________________________________________________________________________________________\nbn5c_branch2a (BatchNormalizati (None, 3, 3, 512)    2048        res5c_branch2a[0][0]             \n__________________________________________________________________________________________________\nactivation_344 (Activation)     (None, 3, 3, 512)    0           bn5c_branch2a[0][0]              \n__________________________________________________________________________________________________\nres5c_branch2b (Conv2D)         (None, 3, 3, 512)    2359808     activation_344[0][0]             \n__________________________________________________________________________________________________\nbn5c_branch2b (BatchNormalizati (None, 3, 3, 512)    2048        res5c_branch2b[0][0]             \n__________________________________________________________________________________________________\nactivation_345 (Activation)     (None, 3, 3, 512)    0           bn5c_branch2b[0][0]              \n__________________________________________________________________________________________________\nres5c_branch2c (Conv2D)         (None, 3, 3, 2048)   1050624     activation_345[0][0]             \n__________________________________________________________________________________________________\nbn5c_branch2c (BatchNormalizati (None, 3, 3, 2048)   8192        res5c_branch2c[0][0]             \n__________________________________________________________________________________________________\nadd_112 (Add)                   (None, 3, 3, 2048)   0           bn5c_branch2c[0][0]              \n                                                                 activation_343[0][0]             \n__________________________________________________________________________________________________\nactivation_346 (Activation)     (None, 3, 3, 2048)   0           add_112[0][0]                    \n__________________________________________________________________________________________________\navg_pool (AveragePooling2D)     (None, 1, 1, 2048)   0           activation_346[0][0]             \n__________________________________________________________________________________________________\nflatten_6 (Flatten)             (None, 2048)         0           avg_pool[0][0]                   \n__________________________________________________________________________________________________\nfc2 (Dense)                     (None, 2)            4098        flatten_6[0][0]                  \n==================================================================================================\nTotal params: 23,597,002\nTrainable params: 23,543,860\nNon-trainable params: 53,142\n__________________________________________________________________________________________________\n",
          "name": "stdout"
        }
      ]
    },
    {
      "metadata": {
        "trusted": true,
        "_uuid": "0e0eb9f7c91622dd1cdbadf23e4f4c608928af42"
      },
      "cell_type": "code",
      "source": "model.fit(Xtr_more, Ytr_more, batch_size=batch_size, epochs=50) #, verbose=1, callbacks=[earlyStopping, mcp_save, reduce_lr_loss], validation_split=0.25)",
      "execution_count": 51,
      "outputs": [
        {
          "output_type": "error",
          "ename": "ValueError",
          "evalue": "Error when checking target: expected fc2 to have shape (None, 2) but got array with shape (4413, 1)",
          "traceback": [
            "\u001b[0;31m---------------------------------------------------------------------------\u001b[0m",
            "\u001b[0;31mValueError\u001b[0m                                Traceback (most recent call last)",
            "\u001b[0;32m<ipython-input-51-f564544fce18>\u001b[0m in \u001b[0;36m<module>\u001b[0;34m()\u001b[0m\n\u001b[0;32m----> 1\u001b[0;31m \u001b[0mmodel\u001b[0m\u001b[0;34m.\u001b[0m\u001b[0mfit\u001b[0m\u001b[0;34m(\u001b[0m\u001b[0mXtr_more\u001b[0m\u001b[0;34m,\u001b[0m \u001b[0mYtr_more\u001b[0m\u001b[0;34m,\u001b[0m \u001b[0mbatch_size\u001b[0m\u001b[0;34m=\u001b[0m\u001b[0mbatch_size\u001b[0m\u001b[0;34m,\u001b[0m \u001b[0mepochs\u001b[0m\u001b[0;34m=\u001b[0m\u001b[0;36m50\u001b[0m\u001b[0;34m)\u001b[0m \u001b[0;31m#, verbose=1, callbacks=[earlyStopping, mcp_save, reduce_lr_loss], validation_split=0.25)\u001b[0m\u001b[0;34m\u001b[0m\u001b[0m\n\u001b[0m",
            "\u001b[0;32m/opt/conda/lib/python3.6/site-packages/Keras-2.1.2-py3.6.egg/keras/engine/training.py\u001b[0m in \u001b[0;36mfit\u001b[0;34m(self, x, y, batch_size, epochs, verbose, callbacks, validation_split, validation_data, shuffle, class_weight, sample_weight, initial_epoch, steps_per_epoch, validation_steps, **kwargs)\u001b[0m\n\u001b[1;32m   1579\u001b[0m             \u001b[0mclass_weight\u001b[0m\u001b[0;34m=\u001b[0m\u001b[0mclass_weight\u001b[0m\u001b[0;34m,\u001b[0m\u001b[0;34m\u001b[0m\u001b[0m\n\u001b[1;32m   1580\u001b[0m             \u001b[0mcheck_batch_axis\u001b[0m\u001b[0;34m=\u001b[0m\u001b[0;32mFalse\u001b[0m\u001b[0;34m,\u001b[0m\u001b[0;34m\u001b[0m\u001b[0m\n\u001b[0;32m-> 1581\u001b[0;31m             batch_size=batch_size)\n\u001b[0m\u001b[1;32m   1582\u001b[0m         \u001b[0;31m# Prepare validation data.\u001b[0m\u001b[0;34m\u001b[0m\u001b[0;34m\u001b[0m\u001b[0m\n\u001b[1;32m   1583\u001b[0m         \u001b[0mdo_validation\u001b[0m \u001b[0;34m=\u001b[0m \u001b[0;32mFalse\u001b[0m\u001b[0;34m\u001b[0m\u001b[0m\n",
            "\u001b[0;32m/opt/conda/lib/python3.6/site-packages/Keras-2.1.2-py3.6.egg/keras/engine/training.py\u001b[0m in \u001b[0;36m_standardize_user_data\u001b[0;34m(self, x, y, sample_weight, class_weight, check_batch_axis, batch_size)\u001b[0m\n\u001b[1;32m   1416\u001b[0m                                     \u001b[0moutput_shapes\u001b[0m\u001b[0;34m,\u001b[0m\u001b[0;34m\u001b[0m\u001b[0m\n\u001b[1;32m   1417\u001b[0m                                     \u001b[0mcheck_batch_axis\u001b[0m\u001b[0;34m=\u001b[0m\u001b[0;32mFalse\u001b[0m\u001b[0;34m,\u001b[0m\u001b[0;34m\u001b[0m\u001b[0m\n\u001b[0;32m-> 1418\u001b[0;31m                                     exception_prefix='target')\n\u001b[0m\u001b[1;32m   1419\u001b[0m         sample_weights = _standardize_sample_weights(sample_weight,\n\u001b[1;32m   1420\u001b[0m                                                      self._feed_output_names)\n",
            "\u001b[0;32m/opt/conda/lib/python3.6/site-packages/Keras-2.1.2-py3.6.egg/keras/engine/training.py\u001b[0m in \u001b[0;36m_standardize_input_data\u001b[0;34m(data, names, shapes, check_batch_axis, exception_prefix)\u001b[0m\n\u001b[1;32m    151\u001b[0m                             \u001b[0;34m' to have shape '\u001b[0m \u001b[0;34m+\u001b[0m \u001b[0mstr\u001b[0m\u001b[0;34m(\u001b[0m\u001b[0mshapes\u001b[0m\u001b[0;34m[\u001b[0m\u001b[0mi\u001b[0m\u001b[0;34m]\u001b[0m\u001b[0;34m)\u001b[0m \u001b[0;34m+\u001b[0m\u001b[0;34m\u001b[0m\u001b[0m\n\u001b[1;32m    152\u001b[0m                             \u001b[0;34m' but got array with shape '\u001b[0m \u001b[0;34m+\u001b[0m\u001b[0;34m\u001b[0m\u001b[0m\n\u001b[0;32m--> 153\u001b[0;31m                             str(array.shape))\n\u001b[0m\u001b[1;32m    154\u001b[0m     \u001b[0;32mreturn\u001b[0m \u001b[0marrays\u001b[0m\u001b[0;34m\u001b[0m\u001b[0m\n\u001b[1;32m    155\u001b[0m \u001b[0;34m\u001b[0m\u001b[0m\n",
            "\u001b[0;31mValueError\u001b[0m: Error when checking target: expected fc2 to have shape (None, 2) but got array with shape (4413, 1)"
          ]
        }
      ]
    },
    {
      "metadata": {
        "_cell_guid": "54a72cfc-dbc1-4136-bb31-2ea75115e1cf",
        "_uuid": "f2b22fcec3493ce4df71f0dd21ed97fd1938e3f7"
      },
      "cell_type": "markdown",
      "source": "## CNN Keras Model"
    },
    {
      "metadata": {
        "_cell_guid": "60ecc07f-3dc5-4ba6-9c02-127ebec699a7",
        "_uuid": "55f2def478e9adf2293cc0362a96f65884e7eab8"
      },
      "cell_type": "markdown",
      "source": "Now the nitty gritty of the situation, the CNN model. This is a simplistic model that should give reasonable results. It is not tuned that well and there are plenty of options and changes you can try so as to improve it. At least you will get the idea:"
    },
    {
      "metadata": {
        "_cell_guid": "c3d1f84c-44e0-45df-9363-13f5b8abd6ef",
        "_uuid": "edd8ce229d5914f9f57bf147dccb4810c06dbf09",
        "collapsed": true,
        "trusted": true
      },
      "cell_type": "code",
      "source": "def getModel():\n    #Build keras model\n    \n    model=Sequential()\n    \n    # CNN 1\n    model.add(Conv2D(64, kernel_size=(3, 3),activation='relu', input_shape=(75, 75, 3)))\n    model.add(MaxPooling2D(pool_size=(3, 3), strides=(2, 2)))\n    model.add(Dropout(0.2))\n\n    # CNN 2\n    model.add(Conv2D(128, kernel_size=(3, 3), activation='relu' ))\n    model.add(MaxPooling2D(pool_size=(2, 2), strides=(2, 2)))\n    model.add(Dropout(0.2))\n\n    # CNN 3\n    model.add(Conv2D(128, kernel_size=(3, 3), activation='relu'))\n    model.add(MaxPooling2D(pool_size=(2, 2), strides=(2, 2)))\n    model.add(Dropout(0.2))\n\n    #CNN 4\n    model.add(Conv2D(64, kernel_size=(3, 3), activation='relu'))\n    model.add(MaxPooling2D(pool_size=(2, 2), strides=(2, 2)))\n    model.add(Dropout(0.2))\n\n    # You must flatten the data for the dense layers\n    model.add(Flatten())\n\n    #Dense 1\n    model.add(Dense(512, activation='relu'))\n    model.add(Dropout(0.2))\n\n    #Dense 2\n    model.add(Dense(256, activation='relu'))\n    model.add(Dropout(0.2))\n\n    # Output \n    model.add(Dense(1, activation=\"sigmoid\"))\n\n    optimizer = Adam(lr=0.001, decay=0.0)\n    model.compile(loss='binary_crossentropy', optimizer=optimizer, metrics=['accuracy'])\n    \n    return model",
      "execution_count": null,
      "outputs": []
    },
    {
      "metadata": {
        "_cell_guid": "0fdf0c92-bf4f-45a8-b764-8f29c20f8b99",
        "_uuid": "14fe4ef731890428d6ee9616e04339829c94d6e9"
      },
      "cell_type": "markdown",
      "source": "Now get the model and get ready to train"
    },
    {
      "metadata": {
        "_cell_guid": "c8d9002e-8166-4af4-93f9-fe1128504415",
        "_uuid": "26dcf890e933e3a088c2f3bcbd1c8528fbbccca7",
        "collapsed": true,
        "trusted": true
      },
      "cell_type": "code",
      "source": "model = getModel()\nmodel.summary()\n\nbatch_size = 32\nearlyStopping = EarlyStopping(monitor='val_loss', patience=10, verbose=0, mode='min')\nmcp_save = ModelCheckpoint('.mdl_wts.hdf5', save_best_only=True, monitor='val_loss', mode='min')\nreduce_lr_loss = ReduceLROnPlateau(monitor='val_loss', factor=0.1, patience=7, verbose=1, epsilon=1e-4, mode='min')",
      "execution_count": null,
      "outputs": []
    },
    {
      "metadata": {
        "_cell_guid": "c18eef26-051b-412a-a13b-bf26f416e830",
        "_uuid": "6dbc30eedfb3fafad4dc19f68c41ba6ac3f5e421"
      },
      "cell_type": "markdown",
      "source": "Now train the model! (Each epoch ran at about 10s on GPU)"
    },
    {
      "metadata": {
        "_cell_guid": "06dcfa2a-2742-4095-893d-f9b578558879",
        "_uuid": "e659b7bc60a664039514bb043910d55a82d2f5fe",
        "collapsed": true,
        "trusted": true
      },
      "cell_type": "code",
      "source": "model.fit(Xtr_more, Ytr_more, batch_size=batch_size, epochs=50, verbose=1, callbacks=[earlyStopping, mcp_save, reduce_lr_loss], validation_split=0.25)",
      "execution_count": null,
      "outputs": []
    },
    {
      "metadata": {
        "_cell_guid": "4218bfc9-ab3f-4d21-85d6-f94d0d7d8546",
        "_uuid": "9d24cf0fc1c16a191a292cc2b2f980a09cd024d0"
      },
      "cell_type": "markdown",
      "source": "## Results"
    },
    {
      "metadata": {
        "_cell_guid": "a9ed1ef9-5c02-4ad3-b194-87ac66abe186",
        "_uuid": "5b318d35d321fb086abff8bf0127bd7f4e8bffd4"
      },
      "cell_type": "markdown",
      "source": "Load the best weights and check the score on the training data."
    },
    {
      "metadata": {
        "_cell_guid": "4ba686cb-4b3e-4f56-b9d9-bad79ab28689",
        "_uuid": "7c362819ea7e89e54ecabfc7d17b497f0d06b764",
        "collapsed": true,
        "trusted": true
      },
      "cell_type": "code",
      "source": "model.load_weights(filepath = '.mdl_wts.hdf5')\n\nscore = model.evaluate(Xtrain, Ytrain, verbose=1)\nprint('Train score:', score[0])\nprint('Train accuracy:', score[1])",
      "execution_count": null,
      "outputs": []
    },
    {
      "metadata": {
        "_cell_guid": "70050e6f-45e0-4c3f-8c8e-585dd69b8c4e",
        "_uuid": "c4c25cb093912bc6ee406d2698bd71822e6dd23c"
      },
      "cell_type": "markdown",
      "source": "Now, to make a submission, load the test data and train the model and output a csv file."
    },
    {
      "metadata": {
        "_cell_guid": "7a64efcf-3e7b-472f-806c-1d90e09b2228",
        "_uuid": "2892d23d42f81ea2e61898da0f01ea68cd1f0f41",
        "collapsed": true,
        "trusted": true
      },
      "cell_type": "code",
      "source": "\ndf_test = pd.read_json('../input/test.json')\ndf_test.inc_angle = df_test.inc_angle.replace('na',0)\nXtest = (get_scaled_imgs(df_test))\npred_test = model.predict(Xtest)\n\nsubmission = pd.DataFrame({'id': df_test[\"id\"], 'is_iceberg': pred_test.reshape((pred_test.shape[0]))})\nprint(submission.head(10))\n\nsubmission.to_csv('submission.csv', index=False)",
      "execution_count": null,
      "outputs": []
    },
    {
      "metadata": {
        "_cell_guid": "a760f72b-becb-47ae-8184-d513ea622f75",
        "_uuid": "5a789e5503e9c99ea771347637593f2f1b32f0e1"
      },
      "cell_type": "markdown",
      "source": "The best submission with this I received was 0.1995 on the leaderboard. Have a go and see how well you can do!"
    }
  ],
  "metadata": {
    "kernelspec": {
      "display_name": "Python 3",
      "language": "python",
      "name": "python3"
    },
    "language_info": {
      "name": "python",
      "version": "3.6.3",
      "mimetype": "text/x-python",
      "codemirror_mode": {
        "name": "ipython",
        "version": 3
      },
      "pygments_lexer": "ipython3",
      "nbconvert_exporter": "python",
      "file_extension": ".py"
    }
  },
  "nbformat": 4,
  "nbformat_minor": 1
}